{
 "cells": [
  {
   "cell_type": "markdown",
   "id": "6536a38c",
   "metadata": {},
   "source": [
    "## Human Activity Recognition\n",
    "\n",
    "This notebook contains the code for processing the MotionSense dataset using AI and Machine Learning."
   ]
  },
  {
   "cell_type": "markdown",
   "id": "2c955a9c",
   "metadata": {},
   "source": [
    "## 1. Imports"
   ]
  },
  {
   "cell_type": "code",
   "execution_count": null,
   "id": "05398592",
   "metadata": {},
   "outputs": [],
   "source": [
    "import numpy as np\n",
    "import pandas as pd\n",
    "import matplotlib.pyplot as plt\n",
    "import seaborn as sns\n",
    "from sklearn.model_selection import train_test_split, TimeSeriesSplit\n",
    "from sklearn.preprocessing import MinMaxScaler, StandardScaler\n",
    "from sklearn.preprocessing import LabelEncoder\n",
    "from sklearn.metrics import classification_report, confusion_matrix, accuracy_score, precision_score, recall_score, f1_score\n",
    "import torch\n",
    "import torch.nn as nn\n",
    "import torch.nn.functional as F\n",
    "import torch.optim as optim\n",
    "from torch.utils.data import Dataset, DataLoader, TensorDataset\n"
   ]
  },
  {
   "cell_type": "markdown",
   "id": "49379c42",
   "metadata": {},
   "source": [
    "## 2. Dataset Loading and Sensor Column Setup\n",
    "\n",
    "This code facilitates data loading. It reads CSV files using get_ds_infos() and set_data_types todefine the sensor columns."
   ]
  },
  {
   "cell_type": "code",
   "execution_count": 3,
   "id": "5f4fa97e",
   "metadata": {},
   "outputs": [],
   "source": [
    "# Step 1: Load Subject Information\n",
    "def get_ds_infos():\n",
    "    return pd.read_csv(\"./data/data_subjects_info.csv\")\n",
    "\n",
    "# Step 2: Define sensor columns\n",
    "def set_data_types(data_types=[\"userAcceleration\"]):\n",
    "    dt_list = []\n",
    "    for t in data_types:\n",
    "        if t != \"attitude\":\n",
    "            dt_list.append([t+\".x\",t+\".y\",t+\".z\"])\n",
    "        else:\n",
    "            dt_list.append([t+\".roll\", t+\".pitch\", t+\".yaw\"])\n",
    "    return dt_list\n"
   ]
  },
  {
   "cell_type": "markdown",
   "id": "f3731f9f",
   "metadata": {},
   "source": [
    "## 3. Dataset Construction from Raw Files\n",
    "create_time_series() combines sensor data (attitude, userAcceleration) and creates a time series."
   ]
  },
  {
   "cell_type": "code",
   "execution_count": 4,
   "id": "62ac9dc6",
   "metadata": {},
   "outputs": [],
   "source": [
    "# Step 3: Create Time-Series from raw data\n",
    "def create_time_series(dt_list, act_labels, trial_codes, mode=\"mag\", labeled=True):\n",
    "    num_data_cols = len(dt_list) if mode == \"mag\" else len(dt_list*3)\n",
    "\n",
    "    if labeled:\n",
    "        dataset = np.zeros((0,num_data_cols+1)) # \"1\" --> [act] we do not need the other labels\n",
    "    else:\n",
    "        dataset = np.zeros((0,num_data_cols))\n",
    "        \n",
    "    ds_list = get_ds_infos()\n",
    "    \n",
    "    print(\"[INFO] -- Creating Time-Series\")\n",
    "    for sub_id in ds_list[\"code\"]:\n",
    "        for act_id, act in enumerate(act_labels):\n",
    "            for trial in trial_codes[act_id]:\n",
    "                fname = './data/A_DeviceMotion_data/'+act+'_'+str(trial)+'/sub_'+str(int(sub_id))+'.csv'\n",
    "                raw_data = pd.read_csv(fname)\n",
    "                raw_data = raw_data.drop(['Unnamed: 0'], axis=1)\n",
    "                vals = np.zeros((len(raw_data), num_data_cols))\n",
    "                for x_id, axes in enumerate(dt_list):\n",
    "                    if mode == \"mag\":\n",
    "                        vals[:,x_id] = (raw_data[axes]**2).sum(axis=1)**0.5        \n",
    "                    else:\n",
    "                        vals[:,x_id*3:(x_id+1)*3] = raw_data[axes].values\n",
    "                    vals = vals[:,:num_data_cols]\n",
    "                if labeled:\n",
    "                    lbls = np.array([[act_id]]*len(raw_data))\n",
    "                    vals = np.concatenate((vals, lbls), axis=1)\n",
    "                dataset = np.append(dataset,vals, axis=0)\n",
    "    cols = []\n",
    "    for axes in dt_list:\n",
    "        if mode == \"raw\":\n",
    "            cols += axes\n",
    "        else:\n",
    "            cols += [str(axes[0][:-2])]\n",
    "            \n",
    "    if labeled:\n",
    "        cols += [\"act\"]\n",
    "    \n",
    "    dataset = pd.DataFrame(data=dataset, columns=cols)\n",
    "    return dataset"
   ]
  },
  {
   "cell_type": "markdown",
   "id": "5ffdb25b",
   "metadata": {},
   "source": [
    "## 4. Activities\n",
    "The following code defines activities and trials "
   ]
  },
  {
   "cell_type": "code",
   "execution_count": 21,
   "id": "ce4af905",
   "metadata": {},
   "outputs": [
    {
     "name": "stdout",
     "output_type": "stream",
     "text": [
      "[INFO] -- Selected sensor data types: ['attitude', 'userAcceleration']\n",
      "[INFO] -- Selected activites: ['dws', 'ups', 'wlk', 'jog', 'std', 'sit']\n",
      "[INFO] -- Creating Time-Series\n",
      "[INFO] -- Shape of time-Series dataset:(1412865, 7)\n"
     ]
    },
    {
     "data": {
      "text/html": [
       "<div>\n",
       "<style scoped>\n",
       "    .dataframe tbody tr th:only-of-type {\n",
       "        vertical-align: middle;\n",
       "    }\n",
       "\n",
       "    .dataframe tbody tr th {\n",
       "        vertical-align: top;\n",
       "    }\n",
       "\n",
       "    .dataframe thead th {\n",
       "        text-align: right;\n",
       "    }\n",
       "</style>\n",
       "<table border=\"1\" class=\"dataframe\">\n",
       "  <thead>\n",
       "    <tr style=\"text-align: right;\">\n",
       "      <th></th>\n",
       "      <th>attitude.roll</th>\n",
       "      <th>attitude.pitch</th>\n",
       "      <th>attitude.yaw</th>\n",
       "      <th>userAcceleration.x</th>\n",
       "      <th>userAcceleration.y</th>\n",
       "      <th>userAcceleration.z</th>\n",
       "      <th>act</th>\n",
       "    </tr>\n",
       "  </thead>\n",
       "  <tbody>\n",
       "    <tr>\n",
       "      <th>0</th>\n",
       "      <td>1.528132</td>\n",
       "      <td>-0.733896</td>\n",
       "      <td>0.696372</td>\n",
       "      <td>0.294894</td>\n",
       "      <td>-0.184493</td>\n",
       "      <td>0.377542</td>\n",
       "      <td>0.0</td>\n",
       "    </tr>\n",
       "    <tr>\n",
       "      <th>1</th>\n",
       "      <td>1.527992</td>\n",
       "      <td>-0.716987</td>\n",
       "      <td>0.677762</td>\n",
       "      <td>0.219405</td>\n",
       "      <td>0.035846</td>\n",
       "      <td>0.114866</td>\n",
       "      <td>0.0</td>\n",
       "    </tr>\n",
       "    <tr>\n",
       "      <th>2</th>\n",
       "      <td>1.527765</td>\n",
       "      <td>-0.706999</td>\n",
       "      <td>0.670951</td>\n",
       "      <td>0.010714</td>\n",
       "      <td>0.134701</td>\n",
       "      <td>-0.167808</td>\n",
       "      <td>0.0</td>\n",
       "    </tr>\n",
       "    <tr>\n",
       "      <th>3</th>\n",
       "      <td>1.516768</td>\n",
       "      <td>-0.704678</td>\n",
       "      <td>0.675735</td>\n",
       "      <td>-0.008389</td>\n",
       "      <td>0.136788</td>\n",
       "      <td>0.094958</td>\n",
       "      <td>0.0</td>\n",
       "    </tr>\n",
       "    <tr>\n",
       "      <th>4</th>\n",
       "      <td>1.493941</td>\n",
       "      <td>-0.703918</td>\n",
       "      <td>0.672994</td>\n",
       "      <td>0.199441</td>\n",
       "      <td>0.353996</td>\n",
       "      <td>-0.044299</td>\n",
       "      <td>0.0</td>\n",
       "    </tr>\n",
       "  </tbody>\n",
       "</table>\n",
       "</div>"
      ],
      "text/plain": [
       "   attitude.roll  attitude.pitch  attitude.yaw  userAcceleration.x  \\\n",
       "0       1.528132       -0.733896      0.696372            0.294894   \n",
       "1       1.527992       -0.716987      0.677762            0.219405   \n",
       "2       1.527765       -0.706999      0.670951            0.010714   \n",
       "3       1.516768       -0.704678      0.675735           -0.008389   \n",
       "4       1.493941       -0.703918      0.672994            0.199441   \n",
       "\n",
       "   userAcceleration.y  userAcceleration.z  act  \n",
       "0           -0.184493            0.377542  0.0  \n",
       "1            0.035846            0.114866  0.0  \n",
       "2            0.134701           -0.167808  0.0  \n",
       "3            0.136788            0.094958  0.0  \n",
       "4            0.353996           -0.044299  0.0  "
      ]
     },
     "execution_count": 21,
     "metadata": {},
     "output_type": "execute_result"
    }
   ],
   "source": [
    "# Step 5:\n",
    "ACT_LABELS = [\"dws\",\"ups\", \"wlk\", \"jog\", \"std\", \"sit\"]\n",
    "TRIAL_CODES = {\n",
    "    ACT_LABELS[0]:[1,2,11],\n",
    "    ACT_LABELS[1]:[3,4,12],\n",
    "    ACT_LABELS[2]:[7,8,15],\n",
    "    ACT_LABELS[3]:[9,16],\n",
    "    ACT_LABELS[4]:[6,14],\n",
    "    ACT_LABELS[5]:[5,13]\n",
    "}\n",
    "\n",
    "## Here we set parameter to build labeled time-series from dataset of \"(A)DeviceMotion_data\"\n",
    "## attitude(roll, pitch, yaw); gravity(x, y, z); rotationRate(x, y, z); userAcceleration(x,y,z)\n",
    "sdt = [\"attitude\", \"userAcceleration\"]\n",
    "print(\"[INFO] -- Selected sensor data types: \"+str(sdt))    \n",
    "act_labels = ACT_LABELS [0:6]\n",
    "print(\"[INFO] -- Selected activites: \"+str(act_labels))    \n",
    "trial_codes = [TRIAL_CODES[act] for act in act_labels]\n",
    "dt_list = set_data_types(sdt)\n",
    "dataset = create_time_series(dt_list, act_labels, trial_codes, mode=\"raw\", labeled=True)\n",
    "print(\"[INFO] -- Shape of time-Series dataset:\"+str(dataset.shape))    \n",
    "dataset.head()"
   ]
  },
  {
   "cell_type": "markdown",
   "id": "4b0a9c25",
   "metadata": {},
   "source": [
    "# Data Pre-processing"
   ]
  },
  {
   "cell_type": "markdown",
   "id": "584196f8",
   "metadata": {},
   "source": [
    "## 6. Data Windowing and feacture extraction"
   ]
  },
  {
   "cell_type": "code",
   "execution_count": 22,
   "id": "51fcfc85",
   "metadata": {},
   "outputs": [],
   "source": [
    "# Windowing function\n",
    "def windows(dataset, window_size=100, stride=50):\n",
    "    windows_list = []\n",
    "    labels_list = []\n",
    "    for act_id, group in dataset.groupby('act'):\n",
    "        data = group.drop('act', axis=1).values\n",
    "        for start in range(0, len(data) - window_size + 1, stride):\n",
    "            end = start + window_size\n",
    "            windows_list.append(data[start:end])\n",
    "            labels_list.append(act_id)\n",
    "    return np.stack(windows_list).astype(np.float32), np.array(labels_list).astype(np.int64)\n",
    "\n",
    "# Prepare windowed data\n",
    "X, y = windows(dataset, window_size=100, stride=50)\n",
    "X_train, X_val, X_test, y_train, y_val, y_test = train_val_test_split(X, y, test_size=0.2, val_size=0.1, random_state=42)\n",
    "train_data = TensorDataset(torch.tensor(X_train), torch.tensor(y_train))\n",
    "val_data = TensorDataset(torch.tensor(X_val), torch.tensor(y_val))\n",
    "test_data = TensorDataset(torch.tensor(X_test), torch.tensor(y_test))\n",
    "train_loader = DataLoader(train_data, batch_size=64, shuffle=True)\n",
    "val_loader = DataLoader(val_data, batch_size=64, shuffle=False)\n",
    "test_loader = DataLoader(test_data, batch_size=64, shuffle=False)\n"
   ]
  },
  {
   "cell_type": "markdown",
   "id": "09010f41",
   "metadata": {},
   "source": [
    "## 5. Train/Validation/Test Split"
   ]
  },
  {
   "cell_type": "code",
   "execution_count": 23,
   "id": "96cf5253",
   "metadata": {},
   "outputs": [],
   "source": [
    "# Utility to split train/val/test\n",
    "def train_val_test_split(X, y, test_size=0.2, val_size=0.1, random_state=None):\n",
    "    X_temp, X_test, y_temp, y_test = train_test_split(X, y, test_size=test_size, random_state=random_state, stratify=y)\n",
    "    val_ratio = val_size / (1 - test_size)\n",
    "    X_train, X_val, y_train, y_val = train_test_split(X_temp, y_temp, test_size=val_ratio, random_state=random_state, stratify=y_temp)\n",
    "    return X_train, X_val, X_test, y_train, y_val, y_test"
   ]
  },
  {
   "cell_type": "markdown",
   "id": "9991d427",
   "metadata": {},
   "source": [
    "# Models\n",
    "Class definitions for the Random Forest, LSTM and the pre train ---- Model."
   ]
  },
  {
   "cell_type": "code",
   "execution_count": 24,
   "id": "54ccb864",
   "metadata": {},
   "outputs": [],
   "source": [
    "\n",
    "class LSTMClassifier(nn.Module):\n",
    "    def __init__(self, input_size, hidden_size, num_layers, num_classes):\n",
    "        super(LSTMClassifier, self).__init__()\n",
    "        self.lstm = nn.LSTM(input_size, hidden_size, num_layers, batch_first=True)\n",
    "        self.fc = nn.Linear(hidden_size, num_classes)\n",
    "\n",
    "    def forward(self, x):\n",
    "        h_0 = torch.zeros(self.lstm.num_layers, x.size(0), self.lstm.hidden_size).to(x.device)\n",
    "        c_0 = torch.zeros(self.lstm.num_layers, x.size(0), self.lstm.hidden_size).to(x.device)\n",
    "        out, _ = self.lstm(x, (h_0, c_0))\n",
    "        out = self.fc(out[:, -1, :])\n",
    "        return out\n"
   ]
  },
  {
   "cell_type": "markdown",
   "id": "7ee2480d",
   "metadata": {},
   "source": [
    "# Training and Evaluation"
   ]
  },
  {
   "cell_type": "code",
   "execution_count": 26,
   "id": "b27dc84e",
   "metadata": {},
   "outputs": [
    {
     "name": "stdout",
     "output_type": "stream",
     "text": [
      "Epoch 1/100, Training Loss: 418.9895, Validation Loss: 51.5007\n",
      "Epoch 2/100, Training Loss: 267.5546, Validation Loss: 39.1118\n",
      "Epoch 3/100, Training Loss: 227.5730, Validation Loss: 27.8639\n",
      "Epoch 4/100, Training Loss: 170.9759, Validation Loss: 21.8382\n",
      "Epoch 5/100, Training Loss: 133.6446, Validation Loss: 17.3203\n",
      "Epoch 6/100, Training Loss: 117.4797, Validation Loss: 16.9654\n",
      "Epoch 7/100, Training Loss: 109.4221, Validation Loss: 14.3308\n",
      "Epoch 8/100, Training Loss: 101.7172, Validation Loss: 11.9212\n",
      "Epoch 9/100, Training Loss: 81.4613, Validation Loss: 11.4705\n",
      "Epoch 10/100, Training Loss: 74.2329, Validation Loss: 10.1021\n",
      "Epoch 11/100, Training Loss: 66.9037, Validation Loss: 10.8565\n",
      "Epoch 12/100, Training Loss: 68.4156, Validation Loss: 9.2057\n",
      "Epoch 13/100, Training Loss: 69.3295, Validation Loss: 7.2965\n",
      "Epoch 14/100, Training Loss: 69.4587, Validation Loss: 7.1720\n",
      "Epoch 15/100, Training Loss: 52.2775, Validation Loss: 6.7360\n",
      "Epoch 16/100, Training Loss: 46.1585, Validation Loss: 6.3138\n",
      "Epoch 17/100, Training Loss: 43.8131, Validation Loss: 6.6560\n",
      "Epoch 18/100, Training Loss: 39.8255, Validation Loss: 6.2739\n",
      "Epoch 19/100, Training Loss: 40.0042, Validation Loss: 5.0872\n",
      "Epoch 20/100, Training Loss: 34.0357, Validation Loss: 5.0842\n",
      "Epoch 21/100, Training Loss: 33.5069, Validation Loss: 4.3572\n",
      "Epoch 22/100, Training Loss: 30.9897, Validation Loss: 3.9361\n",
      "Epoch 23/100, Training Loss: 36.5089, Validation Loss: 4.9060\n",
      "Epoch 24/100, Training Loss: 29.8513, Validation Loss: 4.0813\n",
      "Epoch 25/100, Training Loss: 26.5325, Validation Loss: 3.4711\n",
      "Epoch 26/100, Training Loss: 26.0572, Validation Loss: 3.9546\n",
      "Epoch 27/100, Training Loss: 28.9655, Validation Loss: 3.7391\n",
      "Epoch 28/100, Training Loss: 23.9305, Validation Loss: 3.2234\n",
      "Epoch 29/100, Training Loss: 23.3948, Validation Loss: 4.0283\n",
      "Epoch 30/100, Training Loss: 23.6712, Validation Loss: 3.2298\n",
      "Epoch 31/100, Training Loss: 20.9419, Validation Loss: 3.1971\n",
      "Epoch 32/100, Training Loss: 19.9477, Validation Loss: 10.1582\n",
      "Epoch 33/100, Training Loss: 55.9565, Validation Loss: 3.7389\n",
      "Epoch 34/100, Training Loss: 23.8112, Validation Loss: 3.7037\n",
      "Epoch 35/100, Training Loss: 19.6150, Validation Loss: 3.7291\n",
      "Epoch 36/100, Training Loss: 19.4424, Validation Loss: 8.2512\n",
      "Early stopping triggered.\n",
      "Classification Report:\n",
      "               precision    recall  f1-score   support\n",
      "\n",
      "         dws       0.70      0.91      0.79       527\n",
      "         ups       0.87      0.93      0.90       629\n",
      "         wlk       0.98      0.95      0.97      1377\n",
      "         jog       1.00      0.67      0.80       537\n",
      "         std       0.99      1.00      0.99      1225\n",
      "         sit       1.00      1.00      1.00      1355\n",
      "\n",
      "    accuracy                           0.94      5650\n",
      "   macro avg       0.92      0.91      0.91      5650\n",
      "weighted avg       0.95      0.94      0.94      5650\n",
      "\n",
      "Accuracy: 0.94\n",
      "Precision: 0.9494908276764381\n",
      "Recall: 0.94\n",
      "F1 Score: 0.9402127005836824\n"
     ]
    },
    {
     "data": {
      "image/png": "[encoded data removed]",
      "text/plain": [
       "<Figure size 800x600 with 2 Axes>"
      ]
     },
     "metadata": {},
     "output_type": "display_data"
    }
   ],
   "source": [
    "# Initialize model, loss, optimizer\n",
    "device = torch.device(\"cuda\" if torch.cuda.is_available() else \"cpu\")\n",
    "model = LSTMClassifier(input_size=X.shape[2], hidden_size=64, num_layers=1, num_classes=len(np.unique(y))).to(device)\n",
    "criterion = nn.CrossEntropyLoss()\n",
    "optimizer = optim.Adam(model.parameters(), lr=0.001)\n",
    "\n",
    "# Training loop with early stopping\n",
    "epochs = 100\n",
    "patience = 5\n",
    "best_val_loss = float('inf')\n",
    "counter = 0\n",
    "\n",
    "# Training loop\n",
    "for epoch in range(epochs):\n",
    "    model.train()\n",
    "    total_loss = 0\n",
    "    for X_batch, y_batch in train_loader:\n",
    "        X_batch, y_batch = X_batch.to(device), y_batch.to(device)\n",
    "        optimizer.zero_grad()\n",
    "        outputs = model(X_batch)\n",
    "        loss = criterion(outputs, y_batch)\n",
    "        loss.backward()\n",
    "        optimizer.step()\n",
    "        total_loss += loss.item()\n",
    "\n",
    "    # Validation loss\n",
    "    model.eval()\n",
    "    val_loss = 0\n",
    "    with torch.no_grad():\n",
    "        for X_batch, y_batch in val_loader:\n",
    "            X_batch, y_batch = X_batch.to(device), y_batch.to(device)\n",
    "            outputs = model(X_batch)\n",
    "            loss = criterion(outputs, y_batch)\n",
    "            val_loss += loss.item()\n",
    "\n",
    "    print(f\"Epoch {epoch+1}/{epochs}, Training Loss: {total_loss:.4f}, Validation Loss: {val_loss:.4f}\")\n",
    "\n",
    "    # Early stopping\n",
    "    if val_loss < best_val_loss:\n",
    "        best_val_loss = val_loss\n",
    "        counter = 0\n",
    "    else:\n",
    "        counter += 1\n",
    "        if counter >= patience:\n",
    "            print(\"Early stopping triggered.\")\n",
    "            break\n",
    "\n",
    "# Evaluation on test set\n",
    "model.eval()\n",
    "all_preds, all_labels = [], []\n",
    "with torch.no_grad():\n",
    "    for X_batch, y_batch in test_loader:\n",
    "        X_batch, y_batch = X_batch.to(device), y_batch.to(device)\n",
    "        outputs = model(X_batch)\n",
    "        _, predicted = torch.max(outputs, 1)\n",
    "        all_preds.extend(predicted.cpu().numpy())\n",
    "        all_labels.extend(y_batch.cpu().numpy())\n",
    "\n",
    "# Print metrics\n",
    "print(\"Classification Report:\\n\", classification_report(all_labels, all_preds, target_names=act_labels))\n",
    "print(\"Accuracy:\", accuracy_score(all_labels, all_preds))\n",
    "print(\"Precision:\", precision_score(all_labels, all_preds, average='weighted'))\n",
    "print(\"Recall:\", recall_score(all_labels, all_preds, average='weighted'))\n",
    "print(\"F1 Score:\", f1_score(all_labels, all_preds, average='weighted'))\n",
    "\n",
    "# Confusion matrix heatmap\n",
    "cm = confusion_matrix(all_labels, all_preds)\n",
    "plt.figure(figsize=(8, 6))\n",
    "sns.heatmap(cm, annot=True, fmt='d', cmap='Blues', xticklabels=act_labels, yticklabels=act_labels)\n",
    "plt.xlabel('Predicted')\n",
    "plt.ylabel('Actual')\n",
    "plt.title('Confusion Matrix')\n",
    "plt.show()"
   ]
  },
  {
   "cell_type": "code",
   "execution_count": 27,
   "id": "ff6b46bc",
   "metadata": {},
   "outputs": [
    {
     "name": "stdout",
     "output_type": "stream",
     "text": [
      "LSTMClassifier(\n",
      "  (lstm): LSTM(6, 64, batch_first=True)\n",
      "  (fc): Linear(in_features=64, out_features=6, bias=True)\n",
      ")\n"
     ]
    }
   ],
   "source": [
    "print(model)"
   ]
  },
  {
   "cell_type": "code",
   "execution_count": 28,
   "id": "ce548485",
   "metadata": {},
   "outputs": [
    {
     "data": {
      "text/plain": [
       "==========================================================================================\n",
       "Layer (type:depth-idx)                   Output Shape              Param #\n",
       "==========================================================================================\n",
       "LSTMClassifier                           [64, 6]                   --\n",
       "├─LSTM: 1-1                              [64, 100, 64]             18,432\n",
       "├─Linear: 1-2                            [64, 6]                   390\n",
       "==========================================================================================\n",
       "Total params: 18,822\n",
       "Trainable params: 18,822\n",
       "Non-trainable params: 0\n",
       "Total mult-adds (Units.MEGABYTES): 117.99\n",
       "==========================================================================================\n",
       "Input size (MB): 0.15\n",
       "Forward/backward pass size (MB): 3.28\n",
       "Params size (MB): 0.08\n",
       "Estimated Total Size (MB): 3.51\n",
       "=========================================================================================="
      ]
     },
     "execution_count": 28,
     "metadata": {},
     "output_type": "execute_result"
    }
   ],
   "source": [
    "from torchinfo import summary\n",
    "summary(model, input_size=(64, X.shape[1], X.shape[2]), device=device)"
   ]
  },
  {
   "cell_type": "code",
   "execution_count": null,
   "id": "967101f9",
   "metadata": {},
   "outputs": [],
   "source": []
  }
 ],
 "metadata": {
  "kernelspec": {
   "display_name": "venv",
   "language": "python",
   "name": "python3"
  },
  "language_info": {
   "codemirror_mode": {
    "name": "ipython",
    "version": 3
   },
   "file_extension": ".py",
   "mimetype": "text/x-python",
   "name": "python",
   "nbconvert_exporter": "python",
   "pygments_lexer": "ipython3",
   "version": "3.11.0"
  }
 },
 "nbformat": 4,
 "nbformat_minor": 5
}
