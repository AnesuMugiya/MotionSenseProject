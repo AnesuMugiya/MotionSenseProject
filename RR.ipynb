{
 "cells": [
  {
   "cell_type": "markdown",
   "id": "6536a38c",
   "metadata": {},
   "source": [
    "## Human Activity Recognition\n",
    "\n",
    "This notebook contains the code for processing the MotionSense dataset using AI and Machine Learning."
   ]
  },
  {
   "cell_type": "markdown",
   "id": "2c955a9c",
   "metadata": {},
   "source": [
    "## 1. Imports"
   ]
  },
  {
   "cell_type": "code",
   "execution_count": 1,
   "id": "05398592",
   "metadata": {},
   "outputs": [],
   "source": [
    "import numpy as np\n",
    "import pandas as pd\n",
    "import matplotlib.pyplot as plt\n",
    "import seaborn as sns\n",
    "from sklearn.model_selection import train_test_split, TimeSeriesSplit\n",
    "from sklearn.preprocessing import MinMaxScaler, StandardScaler\n",
    "from sklearn.preprocessing import LabelEncoder\n",
    "from sklearn.ensemble import RandomForestClassifier\n",
    "from sklearn.metrics import classification_report, confusion_matrix, accuracy_score, precision_score, recall_score, f1_score\n",
    "import torch\n",
    "import torch.nn as nn\n",
    "import torch.nn.functional as F\n",
    "import torch.optim as optim\n",
    "from torch.utils.data import Dataset, DataLoader, TensorDataset"
   ]
  },
  {
   "cell_type": "markdown",
   "id": "49379c42",
   "metadata": {},
   "source": [
    "## 2. Dataset Loading and Sensor Column Setup\n",
    "\n",
    "This code facilitates data loading. It reads CSV files using get_ds_infos() and set_data_types todefine the sensor columns."
   ]
  },
  {
   "cell_type": "code",
   "execution_count": 2,
   "id": "5f4fa97e",
   "metadata": {},
   "outputs": [],
   "source": [
    "# Step 1: Load Subject Information\n",
    "def get_ds_infos():\n",
    "    return pd.read_csv(\"./data/data_subjects_info.csv\")\n",
    "\n",
    "# Step 2: Define sensor columns\n",
    "def set_data_types(data_types=[\"userAcceleration\"]):\n",
    "    dt_list = []\n",
    "    for t in data_types:\n",
    "        if t != \"attitude\":\n",
    "            dt_list.append([t+\".x\",t+\".y\",t+\".z\"])\n",
    "        else:\n",
    "            dt_list.append([t+\".roll\", t+\".pitch\", t+\".yaw\"])\n",
    "    return dt_list\n"
   ]
  },
  {
   "cell_type": "markdown",
   "id": "f3731f9f",
   "metadata": {},
   "source": [
    "## 3. Dataset Construction from Raw Files\n",
    "create_time_series() combines sensor data (attitude, userAcceleration) and creates a time series."
   ]
  },
  {
   "cell_type": "code",
   "execution_count": 3,
   "id": "62ac9dc6",
   "metadata": {},
   "outputs": [],
   "source": [
    "# Step 3: Create Time-Series from raw data\n",
    "def create_time_series(dt_list, act_labels, trial_codes, mode=\"mag\", labeled=True):\n",
    "    num_data_cols = len(dt_list) if mode == \"mag\" else len(dt_list*3)\n",
    "\n",
    "    if labeled:\n",
    "        dataset = np.zeros((0,num_data_cols+1)) # \"1\" --> [act] we do not need the other labels\n",
    "    else:\n",
    "        dataset = np.zeros((0,num_data_cols))\n",
    "        \n",
    "    ds_list = get_ds_infos()\n",
    "    \n",
    "    print(\"[INFO] -- Creating Time-Series\")\n",
    "    for sub_id in ds_list[\"code\"]:\n",
    "        for act_id, act in enumerate(act_labels):\n",
    "            for trial in trial_codes[act_id]:\n",
    "                fname = './data/A_DeviceMotion_data/'+act+'_'+str(trial)+'/sub_'+str(int(sub_id))+'.csv'\n",
    "                raw_data = pd.read_csv(fname)\n",
    "                raw_data = raw_data.drop(['Unnamed: 0'], axis=1)\n",
    "                vals = np.zeros((len(raw_data), num_data_cols))\n",
    "                for x_id, axes in enumerate(dt_list):\n",
    "                    if mode == \"mag\":\n",
    "                        vals[:,x_id] = (raw_data[axes]**2).sum(axis=1)**0.5        \n",
    "                    else:\n",
    "                        vals[:,x_id*3:(x_id+1)*3] = raw_data[axes].values\n",
    "                    vals = vals[:,:num_data_cols]\n",
    "                if labeled:\n",
    "                    lbls = np.array([[act_id]]*len(raw_data))\n",
    "                    vals = np.concatenate((vals, lbls), axis=1)\n",
    "                dataset = np.append(dataset,vals, axis=0)\n",
    "    cols = []\n",
    "    for axes in dt_list:\n",
    "        if mode == \"raw\":\n",
    "            cols += axes\n",
    "        else:\n",
    "            cols += [str(axes[0][:-2])]\n",
    "            \n",
    "    if labeled:\n",
    "        cols += [\"act\"]\n",
    "    \n",
    "    dataset = pd.DataFrame(data=dataset, columns=cols)\n",
    "    return dataset"
   ]
  },
  {
   "cell_type": "markdown",
   "id": "5ffdb25b",
   "metadata": {},
   "source": [
    "## 4. Activities\n",
    "The following code defines activities and trials "
   ]
  },
  {
   "cell_type": "code",
   "execution_count": 12,
   "id": "ce4af905",
   "metadata": {},
   "outputs": [
    {
     "name": "stdout",
     "output_type": "stream",
     "text": [
      "[INFO] -- Selected sensor data types: ['attitude', 'userAcceleration']\n",
      "[INFO] -- Selected activites: ['dws', 'ups', 'wlk', 'jog', 'std', 'sit']\n",
      "[INFO] -- Creating Time-Series\n",
      "[INFO] -- Shape of time-Series dataset:(1412865, 7)\n"
     ]
    },
    {
     "data": {
      "text/html": [
       "<div>\n",
       "<style scoped>\n",
       "    .dataframe tbody tr th:only-of-type {\n",
       "        vertical-align: middle;\n",
       "    }\n",
       "\n",
       "    .dataframe tbody tr th {\n",
       "        vertical-align: top;\n",
       "    }\n",
       "\n",
       "    .dataframe thead th {\n",
       "        text-align: right;\n",
       "    }\n",
       "</style>\n",
       "<table border=\"1\" class=\"dataframe\">\n",
       "  <thead>\n",
       "    <tr style=\"text-align: right;\">\n",
       "      <th></th>\n",
       "      <th>attitude.roll</th>\n",
       "      <th>attitude.pitch</th>\n",
       "      <th>attitude.yaw</th>\n",
       "      <th>userAcceleration.x</th>\n",
       "      <th>userAcceleration.y</th>\n",
       "      <th>userAcceleration.z</th>\n",
       "      <th>act</th>\n",
       "    </tr>\n",
       "  </thead>\n",
       "  <tbody>\n",
       "    <tr>\n",
       "      <th>0</th>\n",
       "      <td>1.528132</td>\n",
       "      <td>-0.733896</td>\n",
       "      <td>0.696372</td>\n",
       "      <td>0.294894</td>\n",
       "      <td>-0.184493</td>\n",
       "      <td>0.377542</td>\n",
       "      <td>0.0</td>\n",
       "    </tr>\n",
       "    <tr>\n",
       "      <th>1</th>\n",
       "      <td>1.527992</td>\n",
       "      <td>-0.716987</td>\n",
       "      <td>0.677762</td>\n",
       "      <td>0.219405</td>\n",
       "      <td>0.035846</td>\n",
       "      <td>0.114866</td>\n",
       "      <td>0.0</td>\n",
       "    </tr>\n",
       "    <tr>\n",
       "      <th>2</th>\n",
       "      <td>1.527765</td>\n",
       "      <td>-0.706999</td>\n",
       "      <td>0.670951</td>\n",
       "      <td>0.010714</td>\n",
       "      <td>0.134701</td>\n",
       "      <td>-0.167808</td>\n",
       "      <td>0.0</td>\n",
       "    </tr>\n",
       "    <tr>\n",
       "      <th>3</th>\n",
       "      <td>1.516768</td>\n",
       "      <td>-0.704678</td>\n",
       "      <td>0.675735</td>\n",
       "      <td>-0.008389</td>\n",
       "      <td>0.136788</td>\n",
       "      <td>0.094958</td>\n",
       "      <td>0.0</td>\n",
       "    </tr>\n",
       "    <tr>\n",
       "      <th>4</th>\n",
       "      <td>1.493941</td>\n",
       "      <td>-0.703918</td>\n",
       "      <td>0.672994</td>\n",
       "      <td>0.199441</td>\n",
       "      <td>0.353996</td>\n",
       "      <td>-0.044299</td>\n",
       "      <td>0.0</td>\n",
       "    </tr>\n",
       "  </tbody>\n",
       "</table>\n",
       "</div>"
      ],
      "text/plain": [
       "   attitude.roll  attitude.pitch  attitude.yaw  userAcceleration.x  \\\n",
       "0       1.528132       -0.733896      0.696372            0.294894   \n",
       "1       1.527992       -0.716987      0.677762            0.219405   \n",
       "2       1.527765       -0.706999      0.670951            0.010714   \n",
       "3       1.516768       -0.704678      0.675735           -0.008389   \n",
       "4       1.493941       -0.703918      0.672994            0.199441   \n",
       "\n",
       "   userAcceleration.y  userAcceleration.z  act  \n",
       "0           -0.184493            0.377542  0.0  \n",
       "1            0.035846            0.114866  0.0  \n",
       "2            0.134701           -0.167808  0.0  \n",
       "3            0.136788            0.094958  0.0  \n",
       "4            0.353996           -0.044299  0.0  "
      ]
     },
     "execution_count": 12,
     "metadata": {},
     "output_type": "execute_result"
    }
   ],
   "source": [
    "# Step 5:\n",
    "ACT_LABELS = [\"dws\",\"ups\", \"wlk\", \"jog\", \"std\", \"sit\"]\n",
    "TRIAL_CODES = {\n",
    "    ACT_LABELS[0]:[1,2,11],\n",
    "    ACT_LABELS[1]:[3,4,12],\n",
    "    ACT_LABELS[2]:[7,8,15],\n",
    "    ACT_LABELS[3]:[9,16],\n",
    "    ACT_LABELS[4]:[6,14],\n",
    "    ACT_LABELS[5]:[5,13]\n",
    "}\n",
    "\n",
    "## Here we set parameter to build labeled time-series from dataset of \"(A)DeviceMotion_data\"\n",
    "## attitude(roll, pitch, yaw); gravity(x, y, z); rotationRate(x, y, z); userAcceleration(x,y,z)\n",
    "sdt = [\"attitude\", \"userAcceleration\"]\n",
    "print(\"[INFO] -- Selected sensor data types: \"+str(sdt))    \n",
    "act_labels = ACT_LABELS [0:6]\n",
    "print(\"[INFO] -- Selected activites: \"+str(act_labels))    \n",
    "trial_codes = [TRIAL_CODES[act] for act in act_labels]\n",
    "dt_list = set_data_types(sdt)\n",
    "dataset = create_time_series(dt_list, act_labels, trial_codes, mode=\"raw\", labeled=True)\n",
    "print(\"[INFO] -- Shape of time-Series dataset:\"+str(dataset.shape))    \n",
    "dataset.head()"
   ]
  },
  {
   "cell_type": "markdown",
   "id": "4b0a9c25",
   "metadata": {},
   "source": [
    "# Data Pre-processing"
   ]
  },
  {
   "cell_type": "markdown",
   "id": "584196f8",
   "metadata": {},
   "source": [
    "## 6. Data Windowing\n",
    "\n",
    "For each window (shape: `[window_size, n_axes]`), we compute:\n",
    "- Time-domain: mean & standard deviation on each axis  \n",
    "- Frequency-domain: spectral energy via FFT on each axis  \n",
    "- Then normalize all features to zero mean & unit variance."
   ]
  },
  {
   "cell_type": "code",
   "execution_count": 13,
   "id": "51fcfc85",
   "metadata": {},
   "outputs": [],
   "source": [
    "# Windowing function\n",
    "def windows(dataset, window_size=100, stride=50):\n",
    "    windows_list = []\n",
    "    labels_list = []\n",
    "    for act_id, group in dataset.groupby('act'):\n",
    "        data = group.drop('act', axis=1).values\n",
    "        for start in range(0, len(data) - window_size + 1, stride):\n",
    "            end = start + window_size\n",
    "            windows_list.append(data[start:end])\n",
    "            labels_list.append(act_id)\n",
    "    return np.stack(windows_list).astype(np.float32), np.array(labels_list).astype(np.int64)\n"
   ]
  },
  {
   "cell_type": "markdown",
   "id": "111738b4",
   "metadata": {},
   "source": [
    "Extract windows"
   ]
  },
  {
   "cell_type": "code",
   "execution_count": 14,
   "id": "32a2eb8f",
   "metadata": {},
   "outputs": [],
   "source": [
    "# Extract windows\n",
    "X_windows, y_windows = windows(dataset, window_size=100, stride=50)\n",
    "\n",
    "import numpy as np\n",
    "from sklearn.preprocessing import StandardScaler\n",
    "\n",
    "def extract_features_from_window(window: np.ndarray):\n",
    "    \"\"\"\n",
    "    window: np.ndarray of shape (window_size, n_axes)\n",
    "    returns: 1D feature vector [μ_axis1, σ_axis1, E_axis1, …]\n",
    "    \"\"\"\n",
    "    feats = []\n",
    "    # Time-domain\n",
    "    feats.extend(window.mean(axis=0).tolist())   # mean per axis\n",
    "    feats.extend(window.std(axis=0).tolist())    # std per axis\n",
    "\n",
    "    # Frequency-domain\n",
    "    fft_vals = np.fft.rfft(window, axis=0)       # real FFT per axis\n",
    "    energy   = np.sum(np.abs(fft_vals)**2, axis=0)\n",
    "    feats.extend(energy.tolist())                # spectral energy per axis\n",
    "\n",
    "    return np.array(feats, dtype=np.float32)\n",
    "\n",
    "# Build feature matrix shape (n_samples, n_features)\n",
    "X_features = np.vstack([extract_features_from_window(w) for w in X_windows])\n",
    "\n",
    "# Normalize features: zero mean, unit variance\n",
    "scaler = StandardScaler()\n",
    "X_features = scaler.fit_transform(X_features)"
   ]
  },
  {
   "cell_type": "markdown",
   "id": "09010f41",
   "metadata": {},
   "source": [
    "## 5. Train/Validation/Test Split"
   ]
  },
  {
   "cell_type": "code",
   "execution_count": 15,
   "id": "96cf5253",
   "metadata": {},
   "outputs": [],
   "source": [
    "# Utility to split train/val/test\n",
    "def train_val_test_split(X, y, test_size=0.2, val_size=0.1, random_state=None):\n",
    "    X_temp, X_test, y_temp, y_test = train_test_split(\n",
    "        X, y, test_size=test_size, random_state=random_state, stratify=y\n",
    "    )\n",
    "    val_ratio = val_size / (1 - test_size)\n",
    "    X_train, X_val, y_train, y_val = train_test_split(\n",
    "        X_temp, y_temp, test_size=val_ratio, random_state=random_state, stratify=y_temp\n",
    "    )\n",
    "    return X_train, X_val, X_test, y_train, y_val, y_test\n",
    "\n",
    "X_train, X_val, X_test, y_train, y_val, y_test = train_val_test_split(\n",
    "    X_features, y_windows, test_size=0.2, val_size=0.1, random_state=42\n",
    ")\n"
   ]
  },
  {
   "cell_type": "markdown",
   "id": "9991d427",
   "metadata": {},
   "source": [
    "# Models\n",
    "Class definitions for the Random Forest, LSTM and the pre train ---- Model."
   ]
  },
  {
   "cell_type": "markdown",
   "id": "7ee2480d",
   "metadata": {},
   "source": [
    "# Training and Evaluation"
   ]
  },
  {
   "cell_type": "code",
   "execution_count": null,
   "id": "b27dc84e",
   "metadata": {},
   "outputs": [
    {
     "name": "stdout",
     "output_type": "stream",
     "text": [
      "Validation Accuracy: 0.9699115044247788\n",
      "\n",
      "Random Forest Test Classification Report:\n",
      "\n",
      "              precision    recall  f1-score   support\n",
      "\n",
      "         dws       0.95      0.87      0.91       527\n",
      "         ups       0.91      0.92      0.92       629\n",
      "         wlk       0.95      0.97      0.96      1377\n",
      "         jog       0.99      0.98      0.98       537\n",
      "         std       0.99      1.00      1.00      1225\n",
      "         sit       1.00      1.00      1.00      1355\n",
      "\n",
      "    accuracy                           0.97      5650\n",
      "   macro avg       0.96      0.96      0.96      5650\n",
      "weighted avg       0.97      0.97      0.97      5650\n",
      "\n",
      "Test Accuracy: 0.9690265486725663\n",
      "Test Precision: 0.9690759651700589\n",
      "Test Recall: 0.9690265486725663\n",
      "Test F1 Score: 0.9688405000778721\n"
     ]
    },
    {
     "data": {
      "text/plain": [
       "Text(0.5, 1.0, 'Random Forest Confusion Matrix')"
      ]
     },
     "execution_count": 16,
     "metadata": {},
     "output_type": "execute_result"
    },
    {
     "data": {
      "image/png": "[encoded data removed]",
      "text/plain": [
       "<Figure size 800x600 with 2 Axes>"
      ]
     },
     "metadata": {},
     "output_type": "display_data"
    }
   ],
   "source": [
    "# 7.1 Split into train/val/test\n",
    "X_train, X_val, X_test, y_train, y_val, y_test = train_val_test_split(\n",
    "    X_features, y_windows, test_size=0.2, val_size=0.1, random_state=42\n",
    ")\n",
    "\n",
    "# 7.2 Instantiate and train Random Forest\n",
    "rf = RandomForestClassifier(n_estimators=100, random_state=42)\n",
    "rf.fit(X_train, y_train)\n",
    "\n",
    "val_preds = rf.predict(X_val)\n",
    "print(\"Validation Accuracy:\", accuracy_score(y_val, val_preds))\n",
    "\n",
    "# 7.4 Test evaluation\n",
    "y_pred = rf.predict(X_test)\n",
    "print(\"\\nRandom Forest Test Classification Report:\\n\")\n",
    "print(classification_report(y_test, y_pred, target_names=act_labels))\n",
    "print(\"Test Accuracy:\", accuracy_score(y_test, y_pred))\n",
    "print(\"Test Precision:\", precision_score(y_test, y_pred, average='weighted'))\n",
    "print(\"Test Recall:\", recall_score(y_test, y_pred, average='weighted'))\n",
    "print(\"Test F1 Score:\", f1_score(y_test, y_pred, average='weighted'))\n",
    "\n",
    "# 7.5 Confusion matrix\n",
    "cm = confusion_matrix(y_test, y_pred)\n",
    "plt.figure(figsize=(8, 6))\n",
    "sns.heatmap(\n",
    "    cm,\n",
    "    annot=True,\n",
    "    fmt='d',\n",
    "    cmap='Blues',\n",
    "    xticklabels=act_labels,\n",
    "    yticklabels=act_labels\n",
    ")\n",
    "plt.xlabel('Predicted Activity')\n",
    "plt.ylabel('True Activity')\n",
    "plt.title('Random Forest Confusion Matrix')"
   ]
  },
  {
   "cell_type": "code",
   "execution_count": null,
   "id": "94d7384c",
   "metadata": {},
   "outputs": [
    {
     "name": "stdout",
     "output_type": "stream",
     "text": [
      "=== Random Forest Parameters ===\n",
      "RandomForestClassifier(random_state=42)\n",
      "=== Feature Importances ===\n",
      "Feature 0: 0.0161\n",
      "Feature 1: 0.0848\n",
      "Feature 2: 0.0130\n",
      "Feature 3: 0.0170\n",
      "Feature 4: 0.0122\n",
      "Feature 5: 0.0464\n",
      "Feature 6: 0.0527\n",
      "Feature 7: 0.0512\n",
      "Feature 8: 0.0537\n",
      "Feature 9: 0.0720\n",
      "Feature 10: 0.1495\n",
      "Feature 11: 0.0779\n",
      "Feature 12: 0.0249\n",
      "Feature 13: 0.1229\n",
      "Feature 14: 0.0229\n",
      "Feature 15: 0.0500\n",
      "Feature 16: 0.0811\n",
      "Feature 17: 0.0518\n"
     ]
    }
   ],
   "source": [
    "\n",
    "print(\"=== Random Forest Parameters ===\")\n",
    "print(rf)           # shows n_estimators, max_depth, etc.\n",
    "\n",
    "\n",
    "if hasattr(rf, 'feature_importances_'):\n",
    "    print(\"=== Feature Importances ===\")\n",
    "    for i, imp in enumerate(rf.feature_importances_):\n",
    "        print(f\"Feature {i}: {imp:.4f}\")"
   ]
  },
  {
   "cell_type": "code",
   "execution_count": null,
   "id": "04cc4728",
   "metadata": {},
   "outputs": [],
   "source": []
  }
 ],
 "metadata": {
  "kernelspec": {
   "display_name": "venv",
   "language": "python",
   "name": "python3"
  },
  "language_info": {
   "codemirror_mode": {
    "name": "ipython",
    "version": 3
   },
   "file_extension": ".py",
   "mimetype": "text/x-python",
   "name": "python",
   "nbconvert_exporter": "python",
   "pygments_lexer": "ipython3",
   "version": "3.11.0"
  }
 },
 "nbformat": 4,
 "nbformat_minor": 5
}
